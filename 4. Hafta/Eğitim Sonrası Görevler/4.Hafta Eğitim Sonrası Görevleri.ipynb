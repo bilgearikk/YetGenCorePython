{
 "cells": [
  {
   "cell_type": "markdown",
   "metadata": {},
   "source": [
    "# Problem 1\n",
    "`ogrenciler` adında bir sözlük oluşturunuz. Kullanıcıdan döngü yardımıyla 3 öğrenci için veri girmesini isteyerek öğrencilerin sırasıyla okul numarası, isim, soy isim, telefon numarası ve doğum tarihi bilgilerini alınız. Aldığınız öğrenci bilgilerini yine aynı döngü yardımıyla `ogrenciler` adındaki sözlükte saklayınız. Daha sonra öğrenci bilgilerinin bulunduğu sözlük yapısını ekrana bastırınız.\n",
    "\n"
   ]
  },
  {
   "cell_type": "code",
   "execution_count": 32,
   "metadata": {},
   "outputs": [
    {
     "name": "stdout",
     "output_type": "stream",
     "text": [
      "\n",
      "Girilen ogrenci bilgileri: \n",
      "\n",
      "Okul No: 54\n",
      "İsim: bilge\n",
      "Soyisim: arik\n",
      "Telefon Numarasi: 546859142\n",
      "Dogum Tarihi: 2003\n",
      "\n",
      "\n",
      "Okul No: 65\n",
      "İsim: aslı\n",
      "Soyisim: kahraman\n",
      "Telefon Numarasi: 5369547852\n",
      "Dogum Tarihi: 2001\n",
      "\n",
      "\n"
     ]
    }
   ],
   "source": [
    "# 1.Problemin Çözümünü Buraya Yazınız\n",
    "\n",
    "ogrenciler={}\n",
    "\n",
    "for i in range(3):\n",
    "    deger=input(f\"Ogrenci {i+1} okul numarasini ismini, soy ismini, telefon numarasi ve dogum tarihini sirasiyla giriniz: \")\n",
    "    okul_no,isim,soyisim,tel_no,dogum = deger.split()\n",
    "\n",
    "    ogrenci_bilgi = {\n",
    "    \"isim\" : isim,\n",
    "    \"soyisim\": soyisim,\n",
    "    \"tel_no\": tel_no,\n",
    "    \"dogum\": dogum,\n",
    "    \"okul_no\": okul_no\n",
    "    }\n",
    "\n",
    "    ogrenciler[okul_no] = ogrenci_bilgi\n",
    "\n",
    "print(\"\\nGirilen ogrenci bilgileri: \\n\")\n",
    "\n",
    "for okul_no, bilgiler in ogrenciler.items():\n",
    "    print(f\"Okul No: {okul_no}\")\n",
    "    print(f\"İsim: {bilgiler['isim']}\")\n",
    "    print(f\"Soyisim: {bilgiler['soyisim']}\")\n",
    "    print(f\"Telefon Numarasi: {bilgiler['tel_no']}\")\n",
    "    print(f\"Dogum Tarihi: {bilgiler['dogum']}\")\n",
    "    print(\"\\n\")\n",
    "\n"
   ]
  },
  {
   "cell_type": "markdown",
   "metadata": {},
   "source": [
    "# Problem 2\n",
    "\n",
    "### a - Biraz ısınarak başlayalım!\n",
    "\n",
    "```\n",
    "numbers = [5,10,10,15,15,15,20,20,20,20]\n",
    "```\n",
    "\n",
    "Yukarıda `numbers` adında 10 elemanlı bir liste verilmiştir. Bu listenin her elemanını kontrol eden ve tekrar eden elemanları bir kez olacak şekilde başka bir listeye kopyalayan bir program yazınız. Son olarak oluşturduğunuz listeyi ekrana bastırınız.\n",
    "\n",
    "\n",
    "\n",
    "\n",
    "```\n",
    ">Output\n",
    "[5, 10, 15, 20]\n",
    "```\n"
   ]
  },
  {
   "cell_type": "code",
   "execution_count": 39,
   "metadata": {},
   "outputs": [
    {
     "name": "stdout",
     "output_type": "stream",
     "text": [
      "[5, 10, 15, 20]\n"
     ]
    }
   ],
   "source": [
    "# 2.Problemin a Şıkkının Çözümünü Buraya Yazınız\n",
    "numbers= [5,10,10,15,15,15,20,20,20,20]\n",
    "\n",
    "unique = []\n",
    "\n",
    "for sayi in numbers:\n",
    "    if sayi in unique:\n",
    "        continue\n",
    "\n",
    "    else:\n",
    "        unique.append(sayi)\n",
    "\n",
    "print(unique)\n"
   ]
  },
  {
   "cell_type": "markdown",
   "metadata": {},
   "source": [
    "### 🌶️ b) Hadi işi biraz daha zorlaştıralım! \n",
    "\n",
    "\n",
    "Şimdiyse senden `numbers` isimli listedeki tekrar eden elemanları `repeatNumbers` adındaki listeye; tekrar etmeyen elemanları `uniqueNumbers`adındaki listeye kopyalayan yazmanı ve listeleri ekrana bastırmanı bekliyoruz\n",
    "\n",
    "```\n",
    ">Output\n",
    "Tekrar Eden Elemanlar: [10, 10, 15, 15, 15, 20, 20, 20, 20]\n",
    "Tekrar Etmeyen Elemanlar: [5]\n",
    "```"
   ]
  },
  {
   "cell_type": "code",
   "execution_count": 45,
   "metadata": {},
   "outputs": [
    {
     "name": "stdout",
     "output_type": "stream",
     "text": [
      "Tekrar eden elemanlar:  [10, 15, 15, 20, 20, 20]\n",
      "Tekrar etmeyen elemanlar:  [5, 10, 15, 20]\n"
     ]
    }
   ],
   "source": [
    "# 2.Problemin b Şıkkının Çözümünü Buraya Yazınız\n",
    "numbers= [5,10,10,15,15,15,20,20,20,20]\n",
    "repeatNumbers= []\n",
    "uniqueNumbers= []\n",
    "\n",
    "for eleman in numbers:\n",
    "    if eleman in uniqueNumbers:\n",
    "        repeatNumbers.append(eleman)\n",
    "\n",
    "    else:\n",
    "        uniqueNumbers.append(eleman)\n",
    "\n",
    "print(\"Tekrar eden elemanlar: \",repeatNumbers)\n",
    "print(\"Tekrar etmeyen elemanlar: \",uniqueNumbers)        "
   ]
  },
  {
   "cell_type": "markdown",
   "metadata": {},
   "source": [
    "# Problem 3\n",
    "sn1 = {1,2,3,4,5}\n",
    "\n",
    "sn2 = {4,5,6,7,8}\n",
    "\n",
    " Verilen 2 adet küme için kesişimlerini, farklarını ve birleşimlerini bulunuz. "
   ]
  },
  {
   "cell_type": "code",
   "execution_count": 12,
   "metadata": {},
   "outputs": [
    {
     "name": "stdout",
     "output_type": "stream",
     "text": [
      "{4, 5}\n",
      "{1, 2, 3}\n",
      "{8, 6, 7}\n",
      "{1, 2, 3, 4, 5, 6, 7, 8}\n"
     ]
    }
   ],
   "source": [
    "# 3.Problemin Çözümünü Buraya Yazınız\n",
    "#Kesişimler\n",
    "sn1={1,2,3,4,5}\n",
    "sn2={4,5,6,7,8}\n",
    "kesisim=sn1.intersection(sn2)\n",
    "print(kesisim)\n",
    "\n",
    "#Farklar\n",
    "fark=sn1.difference(sn2)\n",
    "print(fark)\n",
    "fark2=sn2.difference(sn1)\n",
    "print(fark2)\n",
    "\n",
    "#Birleşim\n",
    "birlesim=sn1.union(sn2)\n",
    "print(birlesim)"
   ]
  },
  {
   "cell_type": "markdown",
   "metadata": {},
   "source": [
    "# Problem 4\n",
    "\n",
    "Buradaki işlemlerimizin tamamı stringler içindir. Aşağıda verilecek olan metodlar için kendinizin örnek yaratması gerekmektedir. \n",
    "\n",
    "Örneğin `upper` için `string` değişkeni oluştururken` k = \"BAC\"` şeklinde oluşturmayınız. Bunun yerine k değişkenini `k = \"bac`\" şeklinde oluşturmanız `upper` metodundaki değişimi görebilmeniz için daha iyi olacaktır.\n",
    "\n",
    "Bütün metodlardaki değişimin gözle görülür şekilde değişimi beklenmektedir.\n",
    "\n",
    "\n",
    "1- capitalize(), lower(), upper(), swapcase(), title(), replace()\n",
    "\n",
    "2- endswith(), startswith(), find(), index(), count()\n",
    "\n",
    "3- split(), strip(), join(), islower(), isalpha(), isdigit()\n",
    "\n",
    "\n",
    "Yukarıdaki `string` metodlarındaki değişimleri görebildiğimiz bir program yazınız.\n"
   ]
  },
  {
   "cell_type": "code",
   "execution_count": 24,
   "metadata": {},
   "outputs": [
    {
     "name": "stdout",
     "output_type": "stream",
     "text": [
      "BuGun HaVA cOK gUZel\n",
      "BUGUN HAVA COK GUZEL\n",
      "bugun hava cok guzel\n",
      "Bugun hava cok guzel\n",
      "bUgUN hAva Cok GuzEL\n",
      "Bugun Hava Cok Guzel\n",
      "BUGUn HaVA cOK gUZel\n",
      "True\n",
      "False\n",
      "-1\n",
      "3\n",
      "True\n",
      "False\n",
      "False\n",
      "1\n",
      "['Na', 'er']\n",
      "Helloooo\n"
     ]
    }
   ],
   "source": [
    "# 4.Problemin Çözümünü Buraya Yazınız\n",
    "x='BuGun HaVA cOK gUZel'\n",
    "print(x)\n",
    "print(x.upper())\n",
    "print(x.lower())\n",
    "print(x.capitalize())\n",
    "print(x.swapcase())\n",
    "print(x.title())\n",
    "print(x.replace('u','U'))\n",
    "\n",
    "y='Naber'\n",
    "print(y.startswith(\"N\"))\n",
    "print(y.endswith(\"k\"))\n",
    "print(y.find(\"i\"))\n",
    "print(y.index('e'))\n",
    "print(y.isalpha())\n",
    "print(y.isdigit())\n",
    "print(y.islower())\n",
    "print(y.count('a'))\n",
    "print(y.split('b'))\n",
    "\n",
    "z=\"    Helloooo     \"\n",
    "print(z.strip())\n",
    "\n"
   ]
  }
 ],
 "metadata": {
  "kernelspec": {
   "display_name": "Python 3.10.5 64-bit",
   "language": "python",
   "name": "python3"
  },
  "language_info": {
   "codemirror_mode": {
    "name": "ipython",
    "version": 3
   },
   "file_extension": ".py",
   "mimetype": "text/x-python",
   "name": "python",
   "nbconvert_exporter": "python",
   "pygments_lexer": "ipython3",
   "version": "3.12.3"
  },
  "orig_nbformat": 4,
  "vscode": {
   "interpreter": {
    "hash": "5026d2d6e7aaaaba093def813beadff083d8733e4a511af01735cbabd156995d"
   }
  }
 },
 "nbformat": 4,
 "nbformat_minor": 2
}
