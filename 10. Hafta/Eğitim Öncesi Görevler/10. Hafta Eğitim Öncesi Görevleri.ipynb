{
 "cells": [
  {
   "attachments": {},
   "cell_type": "markdown",
   "metadata": {},
   "source": [
    "# Problem 1"
   ]
  },
  {
   "cell_type": "code",
   "execution_count": 11,
   "metadata": {},
   "outputs": [
    {
     "name": "stdout",
     "output_type": "stream",
     "text": [
      "[2 3 9 9 2 5 3 6 9]\n",
      "1\n",
      "[[2 3 9]\n",
      " [9 2 5]\n",
      " [3 6 9]]\n",
      "2\n"
     ]
    }
   ],
   "source": [
    "# 1 - numpy kütüphanesini import edin\n",
    "import numpy as np\n",
    "# 2 - 0 ile 10 arasında 5 sayıdan oluşan matris üretin\n",
    "a = np.random.randint(2,10,9)\n",
    "print(a)\n",
    "# 3 - matris'in boyutunu öğrenin\n",
    "print(a.ndim)\n",
    "# 4 - matris'i yeniden boyutlandırın\n",
    "b= a.reshape(3,3)\n",
    "print(b)\n",
    "# 5 - matris'in boyut sayısını öğrenin\n",
    "print(b.ndim)"
   ]
  },
  {
   "attachments": {},
   "cell_type": "markdown",
   "metadata": {},
   "source": [
    "# Problem 2"
   ]
  },
  {
   "cell_type": "code",
   "execution_count": 23,
   "metadata": {},
   "outputs": [
    {
     "name": "stdout",
     "output_type": "stream",
     "text": [
      "[1 3 5 7 9]\n",
      "[array([1, 3]), array([5, 7, 9]), array([], dtype=int32)]\n",
      "[1 3 5 7 9]\n"
     ]
    }
   ],
   "source": [
    "# 1 - 0 ile 10 arasında bulunan tek sayılardan oluşan matris üretin\n",
    "import numpy as np\n",
    "a = np.arange(1,10,2)\n",
    "print(a)\n",
    "\n",
    "# 2 - Oluşturduğunuz matrisi parçalayın\n",
    "split_arrays = (np.split(a,[2,5]))\n",
    "print(split_arrays)\n",
    "\n",
    "# 3 - Parçalanmış matrisleri birleştirin\n",
    "combine_array = np.concatenate(split_arrays)\n",
    "print(combine_array)\n",
    "\n"
   ]
  },
  {
   "attachments": {},
   "cell_type": "markdown",
   "metadata": {},
   "source": [
    "# Problem 3"
   ]
  },
  {
   "cell_type": "code",
   "execution_count": 35,
   "metadata": {},
   "outputs": [
    {
     "name": "stdout",
     "output_type": "stream",
     "text": [
      "[95 27 77 87 45 19 93 33 11 53]\n",
      "1\n",
      "10\n",
      "int32\n"
     ]
    }
   ],
   "source": [
    "# 1 - 5 ile 100 arasında ikişer ikişer atlayarak rastgele 10 sayıdan oluşan matris üretin\n",
    "x = np.random.choice(np.arange(5,100,2),10, replace=False)\n",
    "print(x)\n",
    "\n",
    "# 2 - matris'in özelliklerini inceleyin\n",
    "\n",
    "print(x.ndim)\n",
    "print(x.size)\n",
    "print(a.dtype)\n"
   ]
  }
 ],
 "metadata": {
  "kernelspec": {
   "display_name": "Python 3",
   "language": "python",
   "name": "python3"
  },
  "language_info": {
   "codemirror_mode": {
    "name": "ipython",
    "version": 3
   },
   "file_extension": ".py",
   "mimetype": "text/x-python",
   "name": "python",
   "nbconvert_exporter": "python",
   "pygments_lexer": "ipython3",
   "version": "3.12.3"
  },
  "orig_nbformat": 4,
  "vscode": {
   "interpreter": {
    "hash": "5026d2d6e7aaaaba093def813beadff083d8733e4a511af01735cbabd156995d"
   }
  }
 },
 "nbformat": 4,
 "nbformat_minor": 2
}
